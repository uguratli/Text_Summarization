{
 "cells": [
  {
   "cell_type": "code",
   "execution_count": 1,
   "metadata": {},
   "outputs": [],
   "source": [
    "import datetime as dt\n",
    "import nltk\n",
    "from nltk.corpus import stopwords\n",
    "from nltk.tokenize import sent_tokenize\n",
    "import re\n",
    "from snowballstemmer import TurkishStemmer\n",
    "import string"
   ]
  },
  {
   "cell_type": "code",
   "execution_count": 2,
   "metadata": {},
   "outputs": [],
   "source": [
    "def time_it(time):\n",
    "    \"\"\"\n",
    "    Returns time data type of given string in form Y-m-d.\n",
    "    Example: 2001-01-01.\"\"\"\n",
    "    return dt.datetime.strptime(str(time), '%Y-%m-%d')"
   ]
  },
  {
   "cell_type": "code",
   "execution_count": 3,
   "metadata": {},
   "outputs": [],
   "source": [
    "def stem_it(x):\n",
    "    \"\"\"Turkish stemmer.\n",
    "    Returns stemmed words in given string, uses Snowball Turkish stemmer.\"\"\"\n",
    "    return [turkStem.stemWord(w) for w in x.split()]"
   ]
  },
  {
   "cell_type": "code",
   "execution_count": 4,
   "metadata": {},
   "outputs": [],
   "source": [
    "def remove_them(x):\n",
    "    \"\"\"Word cleaner.\n",
    "    Removes words has lenght less then 3 in given string.\"\"\"\n",
    "    return re.sub(r'\\b\\w{1,2}\\b', '', x)"
   ]
  },
  {
   "cell_type": "code",
   "execution_count": 5,
   "metadata": {},
   "outputs": [],
   "source": [
    "def remove_digit(text):\n",
    "    \"\"\"Digit cleaner.\n",
    "    Removes digits in given string.\"\"\"\n",
    "    digit_pattern = str.maketrans('', '', string.digits)\n",
    "    return text.translate(digit_pattern)"
   ]
  },
  {
   "cell_type": "code",
   "execution_count": 6,
   "metadata": {},
   "outputs": [],
   "source": [
    "def lower_it(text):\n",
    "    \"\"\"Lowers characters in given string.\n",
    "    Lowers all in string.\"\"\"\n",
    "    return text.lower()"
   ]
  },
  {
   "cell_type": "code",
   "execution_count": 51,
   "metadata": {},
   "outputs": [],
   "source": [
    "def remove_punctiations(text):\n",
    "    \"\"\"Punction cleaner.\n",
    "    Removes punctions in given string.\"\"\"\n",
    "    pattern = str.maketrans('', '', string.punctuation)\n",
    "    text= text.translate(pattern)\n",
    "    return text.replace(\"\\n\", \" \")"
   ]
  },
  {
   "cell_type": "code",
   "execution_count": 8,
   "metadata": {},
   "outputs": [],
   "source": [
    "def remove_stopwords(text, language='turkish'):\n",
    "    \"\"\"Stopword cleaner.\n",
    "    Removes stopwords in given string, language is set to Turkish by default.\"\"\"\n",
    "    st = stopwords.words(language)\n",
    "    pattern = re.compile(r'\\b(' + r'|'.join(st) + r')\\b\\s*')\n",
    "    text = pattern.sub('',text)\n",
    "    return text"
   ]
  },
  {
   "cell_type": "code",
   "execution_count": 9,
   "metadata": {},
   "outputs": [],
   "source": [
    "def replace_turkish(text):\n",
    "    \"\"\"Turkish Character Fixer.\n",
    "    Replaces Turkish character with English ones.\"\"\"\n",
    "    character_map = {'ç': 'c',\n",
    "                     'Ç': 'C',\n",
    "                     'ğ': 'g',\n",
    "                     'Ğ': 'G',\n",
    "                     'ı': 'i',\n",
    "                     'I': 'I',\n",
    "                     'ö': 'o',\n",
    "                     'Ö': 'O',\n",
    "                     'ş': 's',\n",
    "                     'Ş': 'S', \n",
    "                     'ü': 'u',\n",
    "                     'Ü': 'U'}\n",
    "    for initial, final in character_map.items():\n",
    "        text = text.replace(initial, final)\n",
    "    return text\n"
   ]
  },
  {
   "cell_type": "code",
   "execution_count": 52,
   "metadata": {},
   "outputs": [],
   "source": [
    "\n",
    "def sentence_it(x):\n",
    "    \"\"\"Sentence maker.\n",
    "    Returns one string form of given words array.\"\"\"\n",
    "    sentence = ''\n",
    "    for w in x: sentence += w + \" \"\n",
    "    return sentence.strip()\n",
    "\n",
    "def preproces(text, stemmer=False):\n",
    "    \"\"\"String cleaner.\n",
    "    Removes digits, lowers charactes, removes punctiations and stop words in given string.\"\"\"\n",
    "    text = remove_digit(text)\n",
    "    text = lower_it(text)\n",
    "    text = remove_punctiations(text)\n",
    "    text = remove_stopwords(text)\n",
    "    test = replace_turkish(text)\n",
    "   # text = remove_them(text)\n",
    "    if stemmer:\n",
    "        text = stem_it(text)\n",
    "        text = sentence_it(text)\n",
    "    return text"
   ]
  },
  {
   "cell_type": "code",
   "execution_count": 11,
   "metadata": {},
   "outputs": [],
   "source": [
    "test_text = \"\"\"CHP Saray İlçe Başkan Vekili Yasin Arslan, Saray İlçe Seçim Kurulu Başkanlığına 31 Mart'ta yüzde 51,16 oy alan DEM Parti adayı Davut Acar ile ilgili itiraz dilekçesi verdi. İlçe Seçim Kurulu talebi reddederken gelişme üzerine CHP Van İl Başkanlığı açıklamada bulunarak Arslan'ın istifa ettiğini ancak yine de kesin ihraç talebiyle disipline sevk edildiğini bildirdi.\n",
    "\n",
    "\"TERÖR ARAŞTIRMASI YAPILSIN\"\n",
    "\n",
    "Arslan, DEM Partili adayın başkan seçilmesine itiraz ettiği dilekçesinde şu ifadeleri kullandı: \"31 Mart tarihinde yapılan yerel seçimlerde Van ili Saray ilçesinde Cumhuriyet Halk Partisi olarak belediye başkanlık seçimlerine katılmış bulunmaktayız. Söz konusu seçim sonuçlarında rakip parti (DEM Parti) adayı Davut Acar'ın seçilmesi önünde engel teşkil edebilecek terörle ilişkili davalarda yargılanıp yargılanmadığı, yargılanmış ise memnu haklarından mahrum bırakılıp bırakılmadığı, devlet memuru vasıflarının taşıyıp taşımadığı hususlarında araştırmaların yapılarak, bu durum söz konusu ise mazbatasının iptalini bilgilerinize arz ederim.\"\n",
    "\n",
    "İlçe Seçim Kurulu Başkanlığı Acar hakkında \"kesinleşmiş bir mahkumiyet hükmü bulunmadığından\" itiraz yolu açık olmak üzere talebin reddine karar verdi.\n",
    "CHP İL BAŞKANLIĞI: KESİN İHRAÇ TALEBİYLE DİSİPLİNE SEVK EDİLDİ\n",
    "\n",
    "CHP Van İl Başkanlığından bugün yapılan açıklamada, \"Saray ilçemizde il başkanlığımız bilgisi dışında İlçe Seçim Kuruluna bir müracaat gerçekleştiğini üzüntü ile öğrendik. İlçe Başkan Vekili Yasin Arslan İlçe Seçim Kuruluna verdiği dilekçenin ardından bir de istifa dilekçesi vermiştir. Bunun üzerine harekete geçen il başkanlığımız ilgili müracaatı yapan İlçe Başkan Vekilinin sadece istifasını yeterli bulmamış kendisini kesin ihraç talebiyle il disiplin kuruluna sevk etmiştir. Halkın iradesinin dışında bir irade olamayacağını, bu vesileyle tekrar tüm siyasi partileri halkın iradesine saygılı olmaya davet ettiğimizi tüm kamuoyuna saygılarımızla arz ve beyan ederiz\" ifadelerine yer verildi. \"\"\""
   ]
  },
  {
   "cell_type": "code",
   "execution_count": 53,
   "metadata": {},
   "outputs": [
    {
     "data": {
      "text/plain": [
       "[\"CHP Saray İlçe Başkan Vekili Yasin Arslan, Saray İlçe Seçim Kurulu Başkanlığına 31 Mart'ta yüzde 51,16 oy alan DEM Parti adayı Davut Acar ile ilgili itiraz dilekçesi verdi.\",\n",
       " \"İlçe Seçim Kurulu talebi reddederken gelişme üzerine CHP Van İl Başkanlığı açıklamada bulunarak Arslan'ın istifa ettiğini ancak yine de kesin ihraç talebiyle disipline sevk edildiğini bildirdi.\",\n",
       " '\"TERÖR ARAŞTIRMASI YAPILSIN\"\\n\\nArslan, DEM Partili adayın başkan seçilmesine itiraz ettiği dilekçesinde şu ifadeleri kullandı: \"31 Mart tarihinde yapılan yerel seçimlerde Van ili Saray ilçesinde Cumhuriyet Halk Partisi olarak belediye başkanlık seçimlerine katılmış bulunmaktayız.',\n",
       " 'Söz konusu seçim sonuçlarında rakip parti (DEM Parti) adayı Davut Acar\\'ın seçilmesi önünde engel teşkil edebilecek terörle ilişkili davalarda yargılanıp yargılanmadığı, yargılanmış ise memnu haklarından mahrum bırakılıp bırakılmadığı, devlet memuru vasıflarının taşıyıp taşımadığı hususlarında araştırmaların yapılarak, bu durum söz konusu ise mazbatasının iptalini bilgilerinize arz ederim.\"',\n",
       " 'İlçe Seçim Kurulu Başkanlığı Acar hakkında \"kesinleşmiş bir mahkumiyet hükmü bulunmadığından\" itiraz yolu açık olmak üzere talebin reddine karar verdi.',\n",
       " 'CHP İL BAŞKANLIĞI: KESİN İHRAÇ TALEBİYLE DİSİPLİNE SEVK EDİLDİ\\n\\nCHP Van İl Başkanlığından bugün yapılan açıklamada, \"Saray ilçemizde il başkanlığımız bilgisi dışında İlçe Seçim Kuruluna bir müracaat gerçekleştiğini üzüntü ile öğrendik.',\n",
       " 'İlçe Başkan Vekili Yasin Arslan İlçe Seçim Kuruluna verdiği dilekçenin ardından bir de istifa dilekçesi vermiştir.',\n",
       " 'Bunun üzerine harekete geçen il başkanlığımız ilgili müracaatı yapan İlçe Başkan Vekilinin sadece istifasını yeterli bulmamış kendisini kesin ihraç talebiyle il disiplin kuruluna sevk etmiştir.',\n",
       " 'Halkın iradesinin dışında bir irade olamayacağını, bu vesileyle tekrar tüm siyasi partileri halkın iradesine saygılı olmaya davet ettiğimizi tüm kamuoyuna saygılarımızla arz ve beyan ederiz\" ifadelerine yer verildi.']"
      ]
     },
     "execution_count": 53,
     "metadata": {},
     "output_type": "execute_result"
    }
   ],
   "source": [
    "sentences = sent_tokenize(test_text)\n",
    "sentences"
   ]
  },
  {
   "cell_type": "code",
   "execution_count": 54,
   "metadata": {},
   "outputs": [
    {
     "data": {
      "text/plain": [
       "\"CHP Saray İlçe Başkan Vekili Yasin Arslan, Saray İlçe Seçim Kurulu Başkanlığına 31 Mart'ta yüzde 51,16 oy alan DEM Parti adayı Davut Acar ile ilgili itiraz dilekçesi verdi.\""
      ]
     },
     "execution_count": 54,
     "metadata": {},
     "output_type": "execute_result"
    }
   ],
   "source": [
    "sent_tokenize(test_text)[0]"
   ]
  },
  {
   "cell_type": "code",
   "execution_count": 16,
   "metadata": {},
   "outputs": [
    {
     "name": "stderr",
     "output_type": "stream",
     "text": [
      "Warning : `load_model` does not return WordVectorModel or SupervisedModel any more, but a `FastText` object which is very similar.\n"
     ]
    }
   ],
   "source": [
    "import fasttext\n",
    "import fasttext.util\n",
    "ft = fasttext.load_model('cc.tr.300.bin')"
   ]
  },
  {
   "cell_type": "code",
   "execution_count": 19,
   "metadata": {},
   "outputs": [
    {
     "data": {
      "text/plain": [
       "(300,)"
      ]
     },
     "execution_count": 19,
     "metadata": {},
     "output_type": "execute_result"
    }
   ],
   "source": [
    "ft.get_word_vector('selam').shape"
   ]
  },
  {
   "cell_type": "code",
   "execution_count": 20,
   "metadata": {},
   "outputs": [
    {
     "data": {
      "text/plain": [
       "[(0.7564390301704407, 'selâm'),\n",
       " (0.7496131062507629, 'selamlar'),\n",
       " (0.7302373647689819, 'selama'),\n",
       " (0.7175897359848022, 'selamü'),\n",
       " (0.7094078660011292, 'selamm'),\n",
       " (0.7060391902923584, 'Selam'),\n",
       " (0.7012952566146851, 'selam.'),\n",
       " (0.6955673098564148, 'selammm'),\n",
       " (0.6951290965080261, 'selamda'),\n",
       " (0.6936641931533813, 'selamu')]"
      ]
     },
     "execution_count": 20,
     "metadata": {},
     "output_type": "execute_result"
    }
   ],
   "source": [
    "ft.get_nearest_neighbors('selam')"
   ]
  },
  {
   "cell_type": "code",
   "execution_count": 56,
   "metadata": {},
   "outputs": [
    {
     "data": {
      "text/plain": [
       "[\"CHP Saray İlçe Başkan Vekili Yasin Arslan, Saray İlçe Seçim Kurulu Başkanlığına 31 Mart'ta yüzde 51,16 oy alan DEM Parti adayı Davut Acar ile ilgili itiraz dilekçesi verdi.\",\n",
       " \"İlçe Seçim Kurulu talebi reddederken gelişme üzerine CHP Van İl Başkanlığı açıklamada bulunarak Arslan'ın istifa ettiğini ancak yine de kesin ihraç talebiyle disipline sevk edildiğini bildirdi.\",\n",
       " '\"TERÖR ARAŞTIRMASI YAPILSIN\"\\n\\nArslan, DEM Partili adayın başkan seçilmesine itiraz ettiği dilekçesinde şu ifadeleri kullandı: \"31 Mart tarihinde yapılan yerel seçimlerde Van ili Saray ilçesinde Cumhuriyet Halk Partisi olarak belediye başkanlık seçimlerine katılmış bulunmaktayız.',\n",
       " 'Söz konusu seçim sonuçlarında rakip parti (DEM Parti) adayı Davut Acar\\'ın seçilmesi önünde engel teşkil edebilecek terörle ilişkili davalarda yargılanıp yargılanmadığı, yargılanmış ise memnu haklarından mahrum bırakılıp bırakılmadığı, devlet memuru vasıflarının taşıyıp taşımadığı hususlarında araştırmaların yapılarak, bu durum söz konusu ise mazbatasının iptalini bilgilerinize arz ederim.\"',\n",
       " 'İlçe Seçim Kurulu Başkanlığı Acar hakkında \"kesinleşmiş bir mahkumiyet hükmü bulunmadığından\" itiraz yolu açık olmak üzere talebin reddine karar verdi.',\n",
       " 'CHP İL BAŞKANLIĞI: KESİN İHRAÇ TALEBİYLE DİSİPLİNE SEVK EDİLDİ\\n\\nCHP Van İl Başkanlığından bugün yapılan açıklamada, \"Saray ilçemizde il başkanlığımız bilgisi dışında İlçe Seçim Kuruluna bir müracaat gerçekleştiğini üzüntü ile öğrendik.',\n",
       " 'İlçe Başkan Vekili Yasin Arslan İlçe Seçim Kuruluna verdiği dilekçenin ardından bir de istifa dilekçesi vermiştir.',\n",
       " 'Bunun üzerine harekete geçen il başkanlığımız ilgili müracaatı yapan İlçe Başkan Vekilinin sadece istifasını yeterli bulmamış kendisini kesin ihraç talebiyle il disiplin kuruluna sevk etmiştir.',\n",
       " 'Halkın iradesinin dışında bir irade olamayacağını, bu vesileyle tekrar tüm siyasi partileri halkın iradesine saygılı olmaya davet ettiğimizi tüm kamuoyuna saygılarımızla arz ve beyan ederiz\" ifadelerine yer verildi.']"
      ]
     },
     "execution_count": 56,
     "metadata": {},
     "output_type": "execute_result"
    }
   ],
   "source": [
    "sentences = sent_tokenize(test_text)\n",
    "sentences"
   ]
  },
  {
   "cell_type": "code",
   "execution_count": 57,
   "metadata": {},
   "outputs": [
    {
     "data": {
      "text/plain": [
       "[['chp saray i̇lçe başkan vekili yasin arslan saray i̇lçe seçim kurulu başkanlığına  martta yüzde  oy alan dem parti adayı davut acar ilgili itiraz dilekçesi verdi',\n",
       "  'i̇lçe seçim kurulu talebi reddederken gelişme üzerine chp van i̇l başkanlığı açıklamada bulunarak arslanın istifa ettiğini ancak yine kesin ihraç talebiyle disipline sevk edildiğini bildirdi',\n",
       "  'terör araştirmasi yapilsin  arslan dem partili adayın başkan seçilmesine itiraz ettiği dilekçesinde ifadeleri kullandı  mart tarihinde yapılan yerel seçimlerde van ili saray ilçesinde cumhuriyet halk partisi olarak belediye başkanlık seçimlerine katılmış bulunmaktayız',\n",
       "  'söz konusu seçim sonuçlarında rakip parti dem parti adayı davut acarın seçilmesi önünde engel teşkil edebilecek terörle ilişkili davalarda yargılanıp yargılanmadığı yargılanmış memnu haklarından mahrum bırakılıp bırakılmadığı devlet memuru vasıflarının taşıyıp taşımadığı hususlarında araştırmaların yapılarak durum söz konusu mazbatasının iptalini bilgilerinize arz ederim',\n",
       "  'i̇lçe seçim kurulu başkanlığı acar hakkında kesinleşmiş bir mahkumiyet hükmü bulunmadığından itiraz yolu açık olmak üzere talebin reddine karar verdi',\n",
       "  'chp i̇l başkanliği kesi̇n i̇hraç talebi̇yle di̇si̇pli̇sevk edi̇ldi̇  chp van i̇l başkanlığından bugün yapılan açıklamada saray ilçemizde il başkanlığımız bilgisi dışında i̇lçe seçim kuruluna bir müracaat gerçekleştiğini üzüntü öğrendik',\n",
       "  'i̇lçe başkan vekili yasin arslan i̇lçe seçim kuruluna verdiği dilekçenin ardından bir istifa dilekçesi vermiştir',\n",
       "  'bunun üzerine harekete geçen il başkanlığımız ilgili müracaatı yapan i̇lçe başkan vekilinin sadece istifasını yeterli bulmamış kendisini kesin ihraç talebiyle il disiplin kuruluna sevk etmiştir',\n",
       "  'halkın iradesinin dışında bir irade olamayacağını vesileyle tekrar siyasi partileri halkın iradesine saygılı olmaya davet ettiğimizi kamuoyuna saygılarımızla arz beyan ederiz ifadelerine yer verildi']]"
      ]
     },
     "execution_count": 57,
     "metadata": {},
     "output_type": "execute_result"
    }
   ],
   "source": [
    "clean_sentenes = []\n",
    "clean_sentenes.append([preproces(sentence) for sentence in sentences])\n",
    "clean_sentenes"
   ]
  },
  {
   "cell_type": "code",
   "execution_count": 38,
   "metadata": {},
   "outputs": [
    {
     "data": {
      "text/plain": [
       "(1, 9)"
      ]
     },
     "execution_count": 38,
     "metadata": {},
     "output_type": "execute_result"
    }
   ],
   "source": [
    "import numpy as np\n",
    "np.shape(clean_sentenes)"
   ]
  },
  {
   "cell_type": "code",
   "execution_count": 43,
   "metadata": {},
   "outputs": [],
   "source": [
    "clean_s = np.reshape(clean_sentenes, (9))"
   ]
  },
  {
   "cell_type": "code",
   "execution_count": 47,
   "metadata": {},
   "outputs": [
    {
     "data": {
      "text/plain": [
       "'chp i̇l başkanliği kesi̇n i̇hraç talebi̇yle di̇si̇pli̇sevk edi̇ldi̇chp van i̇l başkanlığından bugün yapılan açıklamada saray ilçemizde il başkanlığımız bilgisi dışında i̇lçe seçim kuruluna bir müracaat gerçekleştiğini üzüntü öğrendik'"
      ]
     },
     "execution_count": 47,
     "metadata": {},
     "output_type": "execute_result"
    }
   ],
   "source": [
    "clean_s[5].replace(\"\\n\", \"\")"
   ]
  },
  {
   "cell_type": "code",
   "execution_count": null,
   "metadata": {},
   "outputs": [],
   "source": []
  }
 ],
 "metadata": {
  "kernelspec": {
   "display_name": "Python 3",
   "language": "python",
   "name": "python3"
  },
  "language_info": {
   "codemirror_mode": {
    "name": "ipython",
    "version": 3
   },
   "file_extension": ".py",
   "mimetype": "text/x-python",
   "name": "python",
   "nbconvert_exporter": "python",
   "pygments_lexer": "ipython3",
   "version": "3.11.4"
  }
 },
 "nbformat": 4,
 "nbformat_minor": 2
}
