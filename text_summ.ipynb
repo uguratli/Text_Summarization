{
 "cells": [
  {
   "cell_type": "code",
   "execution_count": 1,
   "metadata": {},
   "outputs": [],
   "source": [
    "import datetime as dt\n",
    "import nltk\n",
    "from nltk.corpus import stopwords\n",
    "from nltk.tokenize import sent_tokenize\n",
    "import re\n",
    "from snowballstemmer import TurkishStemmer\n",
    "import string"
   ]
  },
  {
   "cell_type": "code",
   "execution_count": 2,
   "metadata": {},
   "outputs": [],
   "source": [
    "def time_it(time):\n",
    "    \"\"\"\n",
    "    Returns time data type of given string in form Y-m-d.\n",
    "    Example: 2001-01-01.\"\"\"\n",
    "    return dt.datetime.strptime(str(time), '%Y-%m-%d')"
   ]
  },
  {
   "cell_type": "code",
   "execution_count": 3,
   "metadata": {},
   "outputs": [],
   "source": [
    "def stem_it(x):\n",
    "    \"\"\"Turkish stemmer.\n",
    "    Returns stemmed words in given string, uses Snowball Turkish stemmer.\"\"\"\n",
    "    return [turkStem.stemWord(w) for w in x.split()]"
   ]
  },
  {
   "cell_type": "code",
   "execution_count": 4,
   "metadata": {},
   "outputs": [],
   "source": [
    "def remove_them(x):\n",
    "    \"\"\"Word cleaner.\n",
    "    Removes words has lenght less then 3 in given string.\"\"\"\n",
    "    return re.sub(r'\\b\\w{1,2}\\b', '', x)"
   ]
  },
  {
   "cell_type": "code",
   "execution_count": 5,
   "metadata": {},
   "outputs": [],
   "source": [
    "def remove_digit(text):\n",
    "    \"\"\"Digit cleaner.\n",
    "    Removes digits in given string.\"\"\"\n",
    "    digit_pattern = str.maketrans('', '', string.digits)\n",
    "    return text.translate(digit_pattern)"
   ]
  },
  {
   "cell_type": "code",
   "execution_count": 6,
   "metadata": {},
   "outputs": [],
   "source": [
    "def lower_it(text):\n",
    "    \"\"\"Lowers characters in given string.\n",
    "    Lowers all in string.\"\"\"\n",
    "    return text.lower()"
   ]
  },
  {
   "cell_type": "code",
   "execution_count": 51,
   "metadata": {},
   "outputs": [],
   "source": [
    "def remove_punctiations(text):\n",
    "    \"\"\"Punction cleaner.\n",
    "    Removes punctions in given string.\"\"\"\n",
    "    pattern = str.maketrans('', '', string.punctuation)\n",
    "    text= text.translate(pattern)\n",
    "    return text.replace(\"\\n\", \" \")"
   ]
  },
  {
   "cell_type": "code",
   "execution_count": 8,
   "metadata": {},
   "outputs": [],
   "source": [
    "def remove_stopwords(text, language='turkish'):\n",
    "    \"\"\"Stopword cleaner.\n",
    "    Removes stopwords in given string, language is set to Turkish by default.\"\"\"\n",
    "    st = stopwords.words(language)\n",
    "    pattern = re.compile(r'\\b(' + r'|'.join(st) + r')\\b\\s*')\n",
    "    text = pattern.sub('',text)\n",
    "    return text"
   ]
  },
  {
   "cell_type": "code",
   "execution_count": 9,
   "metadata": {},
   "outputs": [],
   "source": [
    "def replace_turkish(text):\n",
    "    \"\"\"Turkish Character Fixer.\n",
    "    Replaces Turkish character with English ones.\"\"\"\n",
    "    character_map = {'ç': 'c',\n",
    "                     'Ç': 'C',\n",
    "                     'ğ': 'g',\n",
    "                     'Ğ': 'G',\n",
    "                     'ı': 'i',\n",
    "                     'I': 'I',\n",
    "                     'ö': 'o',\n",
    "                     'Ö': 'O',\n",
    "                     'ş': 's',\n",
    "                     'Ş': 'S', \n",
    "                     'ü': 'u',\n",
    "                     'Ü': 'U'}\n",
    "    for initial, final in character_map.items():\n",
    "        text = text.replace(initial, final)\n",
    "    return text\n"
   ]
  },
  {
   "cell_type": "code",
   "execution_count": 63,
   "metadata": {},
   "outputs": [],
   "source": [
    "\n",
    "def sentence_it(x):\n",
    "    \"\"\"Sentence maker.\n",
    "    Returns one string form of given words array.\"\"\"\n",
    "    sentence = ''\n",
    "    for w in x.split(): sentence += w + \" \"\n",
    "    return sentence.strip()\n",
    "\n",
    "def preproces(text, stemmer=False):\n",
    "    \"\"\"String cleaner.\n",
    "    Removes digits, lowers charactes, removes punctiations and stop words in given string.\"\"\"\n",
    "    text = remove_digit(text)\n",
    "    text = lower_it(text)\n",
    "    text = remove_punctiations(text)\n",
    "    text = remove_stopwords(text)\n",
    "    test = replace_turkish(text)\n",
    "   # text = remove_them(text)\n",
    "    if stemmer:\n",
    "        text = stem_it(text)\n",
    "        text = sentence_it(text)\n",
    "    text = sentence_it(text)\n",
    "    return text"
   ]
  },
  {
   "cell_type": "code",
   "execution_count": 11,
   "metadata": {},
   "outputs": [],
   "source": [
    "test_text = \"\"\"CHP Saray İlçe Başkan Vekili Yasin Arslan, Saray İlçe Seçim Kurulu Başkanlığına 31 Mart'ta yüzde 51,16 oy alan DEM Parti adayı Davut Acar ile ilgili itiraz dilekçesi verdi. İlçe Seçim Kurulu talebi reddederken gelişme üzerine CHP Van İl Başkanlığı açıklamada bulunarak Arslan'ın istifa ettiğini ancak yine de kesin ihraç talebiyle disipline sevk edildiğini bildirdi.\n",
    "\n",
    "\"TERÖR ARAŞTIRMASI YAPILSIN\"\n",
    "\n",
    "Arslan, DEM Partili adayın başkan seçilmesine itiraz ettiği dilekçesinde şu ifadeleri kullandı: \"31 Mart tarihinde yapılan yerel seçimlerde Van ili Saray ilçesinde Cumhuriyet Halk Partisi olarak belediye başkanlık seçimlerine katılmış bulunmaktayız. Söz konusu seçim sonuçlarında rakip parti (DEM Parti) adayı Davut Acar'ın seçilmesi önünde engel teşkil edebilecek terörle ilişkili davalarda yargılanıp yargılanmadığı, yargılanmış ise memnu haklarından mahrum bırakılıp bırakılmadığı, devlet memuru vasıflarının taşıyıp taşımadığı hususlarında araştırmaların yapılarak, bu durum söz konusu ise mazbatasının iptalini bilgilerinize arz ederim.\"\n",
    "\n",
    "İlçe Seçim Kurulu Başkanlığı Acar hakkında \"kesinleşmiş bir mahkumiyet hükmü bulunmadığından\" itiraz yolu açık olmak üzere talebin reddine karar verdi.\n",
    "CHP İL BAŞKANLIĞI: KESİN İHRAÇ TALEBİYLE DİSİPLİNE SEVK EDİLDİ\n",
    "\n",
    "CHP Van İl Başkanlığından bugün yapılan açıklamada, \"Saray ilçemizde il başkanlığımız bilgisi dışında İlçe Seçim Kuruluna bir müracaat gerçekleştiğini üzüntü ile öğrendik. İlçe Başkan Vekili Yasin Arslan İlçe Seçim Kuruluna verdiği dilekçenin ardından bir de istifa dilekçesi vermiştir. Bunun üzerine harekete geçen il başkanlığımız ilgili müracaatı yapan İlçe Başkan Vekilinin sadece istifasını yeterli bulmamış kendisini kesin ihraç talebiyle il disiplin kuruluna sevk etmiştir. Halkın iradesinin dışında bir irade olamayacağını, bu vesileyle tekrar tüm siyasi partileri halkın iradesine saygılı olmaya davet ettiğimizi tüm kamuoyuna saygılarımızla arz ve beyan ederiz\" ifadelerine yer verildi. \"\"\""
   ]
  },
  {
   "cell_type": "code",
   "execution_count": 53,
   "metadata": {},
   "outputs": [
    {
     "data": {
      "text/plain": [
       "[\"CHP Saray İlçe Başkan Vekili Yasin Arslan, Saray İlçe Seçim Kurulu Başkanlığına 31 Mart'ta yüzde 51,16 oy alan DEM Parti adayı Davut Acar ile ilgili itiraz dilekçesi verdi.\",\n",
       " \"İlçe Seçim Kurulu talebi reddederken gelişme üzerine CHP Van İl Başkanlığı açıklamada bulunarak Arslan'ın istifa ettiğini ancak yine de kesin ihraç talebiyle disipline sevk edildiğini bildirdi.\",\n",
       " '\"TERÖR ARAŞTIRMASI YAPILSIN\"\\n\\nArslan, DEM Partili adayın başkan seçilmesine itiraz ettiği dilekçesinde şu ifadeleri kullandı: \"31 Mart tarihinde yapılan yerel seçimlerde Van ili Saray ilçesinde Cumhuriyet Halk Partisi olarak belediye başkanlık seçimlerine katılmış bulunmaktayız.',\n",
       " 'Söz konusu seçim sonuçlarında rakip parti (DEM Parti) adayı Davut Acar\\'ın seçilmesi önünde engel teşkil edebilecek terörle ilişkili davalarda yargılanıp yargılanmadığı, yargılanmış ise memnu haklarından mahrum bırakılıp bırakılmadığı, devlet memuru vasıflarının taşıyıp taşımadığı hususlarında araştırmaların yapılarak, bu durum söz konusu ise mazbatasının iptalini bilgilerinize arz ederim.\"',\n",
       " 'İlçe Seçim Kurulu Başkanlığı Acar hakkında \"kesinleşmiş bir mahkumiyet hükmü bulunmadığından\" itiraz yolu açık olmak üzere talebin reddine karar verdi.',\n",
       " 'CHP İL BAŞKANLIĞI: KESİN İHRAÇ TALEBİYLE DİSİPLİNE SEVK EDİLDİ\\n\\nCHP Van İl Başkanlığından bugün yapılan açıklamada, \"Saray ilçemizde il başkanlığımız bilgisi dışında İlçe Seçim Kuruluna bir müracaat gerçekleştiğini üzüntü ile öğrendik.',\n",
       " 'İlçe Başkan Vekili Yasin Arslan İlçe Seçim Kuruluna verdiği dilekçenin ardından bir de istifa dilekçesi vermiştir.',\n",
       " 'Bunun üzerine harekete geçen il başkanlığımız ilgili müracaatı yapan İlçe Başkan Vekilinin sadece istifasını yeterli bulmamış kendisini kesin ihraç talebiyle il disiplin kuruluna sevk etmiştir.',\n",
       " 'Halkın iradesinin dışında bir irade olamayacağını, bu vesileyle tekrar tüm siyasi partileri halkın iradesine saygılı olmaya davet ettiğimizi tüm kamuoyuna saygılarımızla arz ve beyan ederiz\" ifadelerine yer verildi.']"
      ]
     },
     "execution_count": 53,
     "metadata": {},
     "output_type": "execute_result"
    }
   ],
   "source": [
    "sentences = sent_tokenize(test_text)\n",
    "sentences"
   ]
  },
  {
   "cell_type": "code",
   "execution_count": 54,
   "metadata": {},
   "outputs": [
    {
     "data": {
      "text/plain": [
       "\"CHP Saray İlçe Başkan Vekili Yasin Arslan, Saray İlçe Seçim Kurulu Başkanlığına 31 Mart'ta yüzde 51,16 oy alan DEM Parti adayı Davut Acar ile ilgili itiraz dilekçesi verdi.\""
      ]
     },
     "execution_count": 54,
     "metadata": {},
     "output_type": "execute_result"
    }
   ],
   "source": [
    "sent_tokenize(test_text)[0]"
   ]
  },
  {
   "cell_type": "code",
   "execution_count": 16,
   "metadata": {},
   "outputs": [
    {
     "name": "stderr",
     "output_type": "stream",
     "text": [
      "Warning : `load_model` does not return WordVectorModel or SupervisedModel any more, but a `FastText` object which is very similar.\n"
     ]
    }
   ],
   "source": [
    "import fasttext\n",
    "import fasttext.util\n",
    "ft = fasttext.load_model('cc.tr.300.bin')"
   ]
  },
  {
   "cell_type": "code",
   "execution_count": 19,
   "metadata": {},
   "outputs": [
    {
     "data": {
      "text/plain": [
       "(300,)"
      ]
     },
     "execution_count": 19,
     "metadata": {},
     "output_type": "execute_result"
    }
   ],
   "source": [
    "ft.get_word_vector('selam').shape"
   ]
  },
  {
   "cell_type": "code",
   "execution_count": 20,
   "metadata": {},
   "outputs": [
    {
     "data": {
      "text/plain": [
       "[(0.7564390301704407, 'selâm'),\n",
       " (0.7496131062507629, 'selamlar'),\n",
       " (0.7302373647689819, 'selama'),\n",
       " (0.7175897359848022, 'selamü'),\n",
       " (0.7094078660011292, 'selamm'),\n",
       " (0.7060391902923584, 'Selam'),\n",
       " (0.7012952566146851, 'selam.'),\n",
       " (0.6955673098564148, 'selammm'),\n",
       " (0.6951290965080261, 'selamda'),\n",
       " (0.6936641931533813, 'selamu')]"
      ]
     },
     "execution_count": 20,
     "metadata": {},
     "output_type": "execute_result"
    }
   ],
   "source": [
    "ft.get_nearest_neighbors('selam')"
   ]
  },
  {
   "cell_type": "code",
   "execution_count": 56,
   "metadata": {},
   "outputs": [
    {
     "data": {
      "text/plain": [
       "[\"CHP Saray İlçe Başkan Vekili Yasin Arslan, Saray İlçe Seçim Kurulu Başkanlığına 31 Mart'ta yüzde 51,16 oy alan DEM Parti adayı Davut Acar ile ilgili itiraz dilekçesi verdi.\",\n",
       " \"İlçe Seçim Kurulu talebi reddederken gelişme üzerine CHP Van İl Başkanlığı açıklamada bulunarak Arslan'ın istifa ettiğini ancak yine de kesin ihraç talebiyle disipline sevk edildiğini bildirdi.\",\n",
       " '\"TERÖR ARAŞTIRMASI YAPILSIN\"\\n\\nArslan, DEM Partili adayın başkan seçilmesine itiraz ettiği dilekçesinde şu ifadeleri kullandı: \"31 Mart tarihinde yapılan yerel seçimlerde Van ili Saray ilçesinde Cumhuriyet Halk Partisi olarak belediye başkanlık seçimlerine katılmış bulunmaktayız.',\n",
       " 'Söz konusu seçim sonuçlarında rakip parti (DEM Parti) adayı Davut Acar\\'ın seçilmesi önünde engel teşkil edebilecek terörle ilişkili davalarda yargılanıp yargılanmadığı, yargılanmış ise memnu haklarından mahrum bırakılıp bırakılmadığı, devlet memuru vasıflarının taşıyıp taşımadığı hususlarında araştırmaların yapılarak, bu durum söz konusu ise mazbatasının iptalini bilgilerinize arz ederim.\"',\n",
       " 'İlçe Seçim Kurulu Başkanlığı Acar hakkında \"kesinleşmiş bir mahkumiyet hükmü bulunmadığından\" itiraz yolu açık olmak üzere talebin reddine karar verdi.',\n",
       " 'CHP İL BAŞKANLIĞI: KESİN İHRAÇ TALEBİYLE DİSİPLİNE SEVK EDİLDİ\\n\\nCHP Van İl Başkanlığından bugün yapılan açıklamada, \"Saray ilçemizde il başkanlığımız bilgisi dışında İlçe Seçim Kuruluna bir müracaat gerçekleştiğini üzüntü ile öğrendik.',\n",
       " 'İlçe Başkan Vekili Yasin Arslan İlçe Seçim Kuruluna verdiği dilekçenin ardından bir de istifa dilekçesi vermiştir.',\n",
       " 'Bunun üzerine harekete geçen il başkanlığımız ilgili müracaatı yapan İlçe Başkan Vekilinin sadece istifasını yeterli bulmamış kendisini kesin ihraç talebiyle il disiplin kuruluna sevk etmiştir.',\n",
       " 'Halkın iradesinin dışında bir irade olamayacağını, bu vesileyle tekrar tüm siyasi partileri halkın iradesine saygılı olmaya davet ettiğimizi tüm kamuoyuna saygılarımızla arz ve beyan ederiz\" ifadelerine yer verildi.']"
      ]
     },
     "execution_count": 56,
     "metadata": {},
     "output_type": "execute_result"
    }
   ],
   "source": [
    "sentences = sent_tokenize(test_text)\n",
    "sentences"
   ]
  },
  {
   "cell_type": "code",
   "execution_count": 64,
   "metadata": {},
   "outputs": [
    {
     "data": {
      "text/plain": [
       "[['chp saray i̇lçe başkan vekili yasin arslan saray i̇lçe seçim kurulu başkanlığına martta yüzde oy alan dem parti adayı davut acar ilgili itiraz dilekçesi verdi',\n",
       "  'i̇lçe seçim kurulu talebi reddederken gelişme üzerine chp van i̇l başkanlığı açıklamada bulunarak arslanın istifa ettiğini ancak yine kesin ihraç talebiyle disipline sevk edildiğini bildirdi',\n",
       "  'terör araştirmasi yapilsin arslan dem partili adayın başkan seçilmesine itiraz ettiği dilekçesinde ifadeleri kullandı mart tarihinde yapılan yerel seçimlerde van ili saray ilçesinde cumhuriyet halk partisi olarak belediye başkanlık seçimlerine katılmış bulunmaktayız',\n",
       "  'söz konusu seçim sonuçlarında rakip parti dem parti adayı davut acarın seçilmesi önünde engel teşkil edebilecek terörle ilişkili davalarda yargılanıp yargılanmadığı yargılanmış memnu haklarından mahrum bırakılıp bırakılmadığı devlet memuru vasıflarının taşıyıp taşımadığı hususlarında araştırmaların yapılarak durum söz konusu mazbatasının iptalini bilgilerinize arz ederim',\n",
       "  'i̇lçe seçim kurulu başkanlığı acar hakkında kesinleşmiş bir mahkumiyet hükmü bulunmadığından itiraz yolu açık olmak üzere talebin reddine karar verdi',\n",
       "  'chp i̇l başkanliği kesi̇n i̇hraç talebi̇yle di̇si̇pli̇sevk edi̇ldi̇ chp van i̇l başkanlığından bugün yapılan açıklamada saray ilçemizde il başkanlığımız bilgisi dışında i̇lçe seçim kuruluna bir müracaat gerçekleştiğini üzüntü öğrendik',\n",
       "  'i̇lçe başkan vekili yasin arslan i̇lçe seçim kuruluna verdiği dilekçenin ardından bir istifa dilekçesi vermiştir',\n",
       "  'bunun üzerine harekete geçen il başkanlığımız ilgili müracaatı yapan i̇lçe başkan vekilinin sadece istifasını yeterli bulmamış kendisini kesin ihraç talebiyle il disiplin kuruluna sevk etmiştir',\n",
       "  'halkın iradesinin dışında bir irade olamayacağını vesileyle tekrar siyasi partileri halkın iradesine saygılı olmaya davet ettiğimizi kamuoyuna saygılarımızla arz beyan ederiz ifadelerine yer verildi']]"
      ]
     },
     "execution_count": 64,
     "metadata": {},
     "output_type": "execute_result"
    }
   ],
   "source": [
    "clean_sentenes = []\n",
    "clean_sentenes.append([preproces(sentence) for sentence in sentences])\n",
    "clean_sentenes"
   ]
  },
  {
   "cell_type": "code",
   "execution_count": 38,
   "metadata": {},
   "outputs": [
    {
     "data": {
      "text/plain": [
       "(1, 9)"
      ]
     },
     "execution_count": 38,
     "metadata": {},
     "output_type": "execute_result"
    }
   ],
   "source": [
    "import numpy as np\n",
    "np.shape(clean_sentenes)"
   ]
  },
  {
   "cell_type": "code",
   "execution_count": 69,
   "metadata": {},
   "outputs": [],
   "source": [
    "clean_s = np.reshape(clean_sentenes, (np.size(clean_sentenes)))"
   ]
  },
  {
   "cell_type": "code",
   "execution_count": 77,
   "metadata": {},
   "outputs": [],
   "source": [
    "clean_w = [[w for w in s.split()] for s in clean_s]"
   ]
  },
  {
   "cell_type": "code",
   "execution_count": 79,
   "metadata": {},
   "outputs": [
    {
     "data": {
      "text/plain": [
       "['chp',\n",
       " 'saray',\n",
       " 'i̇lçe',\n",
       " 'başkan',\n",
       " 'vekili',\n",
       " 'yasin',\n",
       " 'arslan',\n",
       " 'saray',\n",
       " 'i̇lçe',\n",
       " 'seçim',\n",
       " 'kurulu',\n",
       " 'başkanlığına',\n",
       " 'martta',\n",
       " 'yüzde',\n",
       " 'oy',\n",
       " 'alan',\n",
       " 'dem',\n",
       " 'parti',\n",
       " 'adayı',\n",
       " 'davut',\n",
       " 'acar',\n",
       " 'ilgili',\n",
       " 'itiraz',\n",
       " 'dilekçesi',\n",
       " 'verdi']"
      ]
     },
     "execution_count": 79,
     "metadata": {},
     "output_type": "execute_result"
    }
   ],
   "source": [
    "clean_w[0]"
   ]
  },
  {
   "cell_type": "code",
   "execution_count": 72,
   "metadata": {},
   "outputs": [
    {
     "data": {
      "text/plain": [
       "['chp',\n",
       " 'saray',\n",
       " 'i̇lçe',\n",
       " 'başkan',\n",
       " 'vekili',\n",
       " 'yasin',\n",
       " 'arslan',\n",
       " 'saray',\n",
       " 'i̇lçe',\n",
       " 'seçim',\n",
       " 'kurulu',\n",
       " 'başkanlığına',\n",
       " 'martta',\n",
       " 'yüzde',\n",
       " 'oy',\n",
       " 'alan',\n",
       " 'dem',\n",
       " 'parti',\n",
       " 'adayı',\n",
       " 'davut',\n",
       " 'acar',\n",
       " 'ilgili',\n",
       " 'itiraz',\n",
       " 'dilekçesi',\n",
       " 'verdi']"
      ]
     },
     "execution_count": 72,
     "metadata": {},
     "output_type": "execute_result"
    }
   ],
   "source": [
    "clean_s[0].split()"
   ]
  },
  {
   "cell_type": "code",
   "execution_count": 80,
   "metadata": {},
   "outputs": [
    {
     "data": {
      "text/plain": [
       "9"
      ]
     },
     "execution_count": 80,
     "metadata": {},
     "output_type": "execute_result"
    }
   ],
   "source": [
    "len(clean_w)"
   ]
  },
  {
   "cell_type": "code",
   "execution_count": 85,
   "metadata": {},
   "outputs": [
    {
     "data": {
      "text/plain": [
       "list"
      ]
     },
     "execution_count": 85,
     "metadata": {},
     "output_type": "execute_result"
    }
   ],
   "source": [
    "type(clean_w)"
   ]
  },
  {
   "cell_type": "code",
   "execution_count": 92,
   "metadata": {},
   "outputs": [
    {
     "data": {
      "text/plain": [
       "[['chp',\n",
       "  'saray',\n",
       "  'i̇lçe',\n",
       "  'başkan',\n",
       "  'vekili',\n",
       "  'yasin',\n",
       "  'arslan',\n",
       "  'saray',\n",
       "  'i̇lçe',\n",
       "  'seçim',\n",
       "  'kurulu',\n",
       "  'başkanlığına',\n",
       "  'martta',\n",
       "  'yüzde',\n",
       "  'oy',\n",
       "  'alan',\n",
       "  'dem',\n",
       "  'parti',\n",
       "  'adayı',\n",
       "  'davut',\n",
       "  'acar',\n",
       "  'ilgili',\n",
       "  'itiraz',\n",
       "  'dilekçesi',\n",
       "  'verdi'],\n",
       " ['i̇lçe',\n",
       "  'seçim',\n",
       "  'kurulu',\n",
       "  'talebi',\n",
       "  'reddederken',\n",
       "  'gelişme',\n",
       "  'üzerine',\n",
       "  'chp',\n",
       "  'van',\n",
       "  'i̇l',\n",
       "  'başkanlığı',\n",
       "  'açıklamada',\n",
       "  'bulunarak',\n",
       "  'arslanın',\n",
       "  'istifa',\n",
       "  'ettiğini',\n",
       "  'ancak',\n",
       "  'yine',\n",
       "  'kesin',\n",
       "  'ihraç',\n",
       "  'talebiyle',\n",
       "  'disipline',\n",
       "  'sevk',\n",
       "  'edildiğini',\n",
       "  'bildirdi'],\n",
       " ['terör',\n",
       "  'araştirmasi',\n",
       "  'yapilsin',\n",
       "  'arslan',\n",
       "  'dem',\n",
       "  'partili',\n",
       "  'adayın',\n",
       "  'başkan',\n",
       "  'seçilmesine',\n",
       "  'itiraz',\n",
       "  'ettiği',\n",
       "  'dilekçesinde',\n",
       "  'ifadeleri',\n",
       "  'kullandı',\n",
       "  'mart',\n",
       "  'tarihinde',\n",
       "  'yapılan',\n",
       "  'yerel',\n",
       "  'seçimlerde',\n",
       "  'van',\n",
       "  'ili',\n",
       "  'saray',\n",
       "  'ilçesinde',\n",
       "  'cumhuriyet',\n",
       "  'halk',\n",
       "  'partisi',\n",
       "  'olarak',\n",
       "  'belediye',\n",
       "  'başkanlık',\n",
       "  'seçimlerine',\n",
       "  'katılmış',\n",
       "  'bulunmaktayız'],\n",
       " ['söz',\n",
       "  'konusu',\n",
       "  'seçim',\n",
       "  'sonuçlarında',\n",
       "  'rakip',\n",
       "  'parti',\n",
       "  'dem',\n",
       "  'parti',\n",
       "  'adayı',\n",
       "  'davut',\n",
       "  'acarın',\n",
       "  'seçilmesi',\n",
       "  'önünde',\n",
       "  'engel',\n",
       "  'teşkil',\n",
       "  'edebilecek',\n",
       "  'terörle',\n",
       "  'ilişkili',\n",
       "  'davalarda',\n",
       "  'yargılanıp',\n",
       "  'yargılanmadığı',\n",
       "  'yargılanmış',\n",
       "  'memnu',\n",
       "  'haklarından',\n",
       "  'mahrum',\n",
       "  'bırakılıp',\n",
       "  'bırakılmadığı',\n",
       "  'devlet',\n",
       "  'memuru',\n",
       "  'vasıflarının',\n",
       "  'taşıyıp',\n",
       "  'taşımadığı',\n",
       "  'hususlarında',\n",
       "  'araştırmaların',\n",
       "  'yapılarak',\n",
       "  'durum',\n",
       "  'söz',\n",
       "  'konusu',\n",
       "  'mazbatasının',\n",
       "  'iptalini',\n",
       "  'bilgilerinize',\n",
       "  'arz',\n",
       "  'ederim'],\n",
       " ['i̇lçe',\n",
       "  'seçim',\n",
       "  'kurulu',\n",
       "  'başkanlığı',\n",
       "  'acar',\n",
       "  'hakkında',\n",
       "  'kesinleşmiş',\n",
       "  'bir',\n",
       "  'mahkumiyet',\n",
       "  'hükmü',\n",
       "  'bulunmadığından',\n",
       "  'itiraz',\n",
       "  'yolu',\n",
       "  'açık',\n",
       "  'olmak',\n",
       "  'üzere',\n",
       "  'talebin',\n",
       "  'reddine',\n",
       "  'karar',\n",
       "  'verdi'],\n",
       " ['chp',\n",
       "  'i̇l',\n",
       "  'başkanliği',\n",
       "  'kesi̇n',\n",
       "  'i̇hraç',\n",
       "  'talebi̇yle',\n",
       "  'di̇si̇pli̇sevk',\n",
       "  'edi̇ldi̇',\n",
       "  'chp',\n",
       "  'van',\n",
       "  'i̇l',\n",
       "  'başkanlığından',\n",
       "  'bugün',\n",
       "  'yapılan',\n",
       "  'açıklamada',\n",
       "  'saray',\n",
       "  'ilçemizde',\n",
       "  'il',\n",
       "  'başkanlığımız',\n",
       "  'bilgisi',\n",
       "  'dışında',\n",
       "  'i̇lçe',\n",
       "  'seçim',\n",
       "  'kuruluna',\n",
       "  'bir',\n",
       "  'müracaat',\n",
       "  'gerçekleştiğini',\n",
       "  'üzüntü',\n",
       "  'öğrendik'],\n",
       " ['i̇lçe',\n",
       "  'başkan',\n",
       "  'vekili',\n",
       "  'yasin',\n",
       "  'arslan',\n",
       "  'i̇lçe',\n",
       "  'seçim',\n",
       "  'kuruluna',\n",
       "  'verdiği',\n",
       "  'dilekçenin',\n",
       "  'ardından',\n",
       "  'bir',\n",
       "  'istifa',\n",
       "  'dilekçesi',\n",
       "  'vermiştir'],\n",
       " ['bunun',\n",
       "  'üzerine',\n",
       "  'harekete',\n",
       "  'geçen',\n",
       "  'il',\n",
       "  'başkanlığımız',\n",
       "  'ilgili',\n",
       "  'müracaatı',\n",
       "  'yapan',\n",
       "  'i̇lçe',\n",
       "  'başkan',\n",
       "  'vekilinin',\n",
       "  'sadece',\n",
       "  'istifasını',\n",
       "  'yeterli',\n",
       "  'bulmamış',\n",
       "  'kendisini',\n",
       "  'kesin',\n",
       "  'ihraç',\n",
       "  'talebiyle',\n",
       "  'il',\n",
       "  'disiplin',\n",
       "  'kuruluna',\n",
       "  'sevk',\n",
       "  'etmiştir'],\n",
       " ['halkın',\n",
       "  'iradesinin',\n",
       "  'dışında',\n",
       "  'bir',\n",
       "  'irade',\n",
       "  'olamayacağını',\n",
       "  'vesileyle',\n",
       "  'tekrar',\n",
       "  'siyasi',\n",
       "  'partileri',\n",
       "  'halkın',\n",
       "  'iradesine',\n",
       "  'saygılı',\n",
       "  'olmaya',\n",
       "  'davet',\n",
       "  'ettiğimizi',\n",
       "  'kamuoyuna',\n",
       "  'saygılarımızla',\n",
       "  'arz',\n",
       "  'beyan',\n",
       "  'ederiz',\n",
       "  'ifadelerine',\n",
       "  'yer',\n",
       "  'verildi']]"
      ]
     },
     "execution_count": 92,
     "metadata": {},
     "output_type": "execute_result"
    }
   ],
   "source": [
    "clean_w"
   ]
  },
  {
   "cell_type": "code",
   "execution_count": 86,
   "metadata": {},
   "outputs": [],
   "source": [
    "def sentence_vector(sentence):\n",
    "    return sum([ft.get_word_vector(word) for word in sentence])/(len(sentence)+0.0001)\n"
   ]
  },
  {
   "cell_type": "code",
   "execution_count": 104,
   "metadata": {},
   "outputs": [],
   "source": [
    "word_vectors = []\n",
    "for s in clean_w:\n",
    "    word_vectors.append(sentence_vector(s))"
   ]
  },
  {
   "cell_type": "code",
   "execution_count": 103,
   "metadata": {},
   "outputs": [
    {
     "data": {
      "text/plain": [
       "numpy.ndarray"
      ]
     },
     "execution_count": 103,
     "metadata": {},
     "output_type": "execute_result"
    }
   ],
   "source": [
    "type(word_vectors[0])"
   ]
  },
  {
   "cell_type": "code",
   "execution_count": 105,
   "metadata": {},
   "outputs": [
    {
     "data": {
      "text/plain": [
       "array([ 8.05435702e-03,  1.25978107e-03,  6.24319427e-02, -6.32884214e-03,\n",
       "       -1.75899826e-02, -1.61474068e-02,  1.37744313e-02,  2.59112101e-03,\n",
       "        4.28639427e-02, -5.48514761e-02, -6.74741669e-03, -1.90544650e-02,\n",
       "       -7.62015767e-03,  7.28561543e-03,  1.17235482e-02, -7.64971366e-03,\n",
       "       -1.28452610e-02, -2.40213387e-02, -4.48411740e-02,  7.75327086e-02,\n",
       "       -6.59939134e-03,  6.61059096e-03, -8.07981007e-03, -2.12747920e-02,\n",
       "       -2.87901256e-02, -1.99163873e-02, -8.12114496e-03, -3.90298129e-03,\n",
       "       -1.33987078e-02,  2.15778742e-02,  1.40949497e-02, -1.54654132e-02,\n",
       "       -1.26898615e-03, -2.53953096e-02, -5.32016903e-03, -2.97065899e-02,\n",
       "       -1.23505481e-02,  4.55770828e-02, -1.02987392e-02, -1.09058665e-02,\n",
       "        7.20649585e-03, -6.25286922e-02, -2.74458807e-02,  2.73177773e-03,\n",
       "       -2.60079838e-02,  3.28307822e-02,  8.99735652e-03,  3.96593176e-02,\n",
       "       -1.50958318e-02, -2.20900811e-02,  4.02106345e-02,  4.12732223e-03,\n",
       "       -2.23959293e-02,  4.70192451e-03, -8.20686109e-03,  7.55074527e-03,\n",
       "        1.83792692e-02,  1.90902781e-02, -1.50701404e-02,  2.96079274e-02,\n",
       "        4.69304100e-02,  6.56475648e-02, -2.25088373e-02,  1.60196389e-03,\n",
       "       -2.01241057e-02,  5.77222090e-03, -3.55107337e-02,  1.00511257e-02,\n",
       "        2.94109769e-02,  3.38384621e-02,  2.78240273e-04, -9.26066074e-04,\n",
       "       -2.46157721e-02, -5.68395108e-02, -7.01197330e-03,  2.78968690e-03,\n",
       "       -1.97904762e-02,  7.27652991e-03, -3.03190760e-02, -7.16280099e-03,\n",
       "       -1.00055216e-02,  1.06963664e-02,  5.86146489e-04,  1.97004825e-02,\n",
       "        1.14279268e-02, -1.72816459e-02,  4.19538021e-02, -4.53638099e-02,\n",
       "       -2.81429794e-02, -1.29545666e-03,  3.32220807e-03,  1.07237250e-02,\n",
       "        3.54488529e-02,  1.79889705e-02,  2.92614494e-02, -7.16761628e-04,\n",
       "        2.70911828e-02,  3.36463116e-02, -4.54074750e-03,  4.26884973e-03,\n",
       "       -1.69733725e-02,  3.65445070e-04,  2.59582996e-02,  1.27971712e-02,\n",
       "        3.27196554e-03, -1.76669713e-02,  3.59946652e-03,  3.34292687e-02,\n",
       "       -4.52047139e-02, -2.59696841e-02,  9.68412962e-03,  4.86671878e-03,\n",
       "        3.36331576e-02,  2.20435318e-02, -3.24057378e-02, -4.09614667e-02,\n",
       "        7.04372721e-03, -2.69005611e-03,  6.38440400e-02,  8.83724261e-03,\n",
       "        2.85068564e-02,  4.68586246e-03,  3.78296971e-02, -5.36112376e-02,\n",
       "       -3.82401869e-02,  2.94667296e-02, -4.37645130e-02,  1.20707126e-02,\n",
       "        2.25119125e-02, -6.24063378e-03, -3.01304013e-02, -1.96850812e-03,\n",
       "        9.08035610e-04,  9.95750190e-04,  9.20835044e-03,  2.90189087e-02,\n",
       "        3.65191475e-02,  3.08441278e-02,  1.69826373e-02,  3.47406231e-02,\n",
       "        2.39726789e-02, -7.47937593e-04, -8.12554453e-03, -1.12204468e-02,\n",
       "        2.97713894e-02,  4.34083343e-02, -5.09865731e-02,  2.56857201e-02,\n",
       "       -1.57002956e-02,  1.45922760e-02,  3.31797078e-02,  3.65767889e-02,\n",
       "        3.80941443e-02, -6.05898211e-04, -4.22979705e-03, -7.79005140e-02,\n",
       "       -1.56122521e-02,  8.31897277e-03, -8.93021468e-03, -5.47484960e-03,\n",
       "        1.72885321e-02, -1.79712325e-02, -1.89144257e-02, -8.68066773e-02,\n",
       "       -4.02273722e-02, -2.59468388e-02,  5.44365845e-04,  1.95948351e-02,\n",
       "       -2.38659512e-02,  1.57147944e-02,  1.72946882e-02, -3.00283842e-02,\n",
       "       -4.11339216e-02,  3.95569503e-02, -1.97863691e-02,  4.49701734e-02,\n",
       "        3.24685089e-02,  2.45254561e-02,  1.57194175e-02, -8.47099535e-03,\n",
       "        4.30470146e-02, -2.62939595e-02, -5.30019701e-02,  2.08469182e-02,\n",
       "        1.11668697e-02,  1.11569343e-02,  8.28031171e-03,  1.12730628e-02,\n",
       "       -1.28044607e-02,  4.02624644e-02, -3.13924551e-02,  1.79536815e-04,\n",
       "       -7.81382143e-04,  6.62530260e-03,  1.06331538e-02,  6.41758591e-02,\n",
       "        1.52106425e-02, -1.78797379e-01,  1.03781475e-02,  1.30166626e-02,\n",
       "        3.21917585e-04,  7.77172041e-04, -1.72150191e-02, -5.71103767e-03,\n",
       "        7.97415792e-04, -8.12794641e-03, -3.70722562e-02,  5.17244451e-02,\n",
       "       -8.61580856e-03, -5.01673901e-03,  6.43053500e-04, -3.22325155e-02,\n",
       "       -1.30613968e-02,  2.09605582e-02,  4.05909345e-02, -7.59663293e-03,\n",
       "        5.18801026e-02,  3.58496346e-02, -6.91298395e-02, -2.28842674e-03,\n",
       "       -2.17380337e-02, -1.15886647e-02,  1.06624486e-02, -3.76579282e-03,\n",
       "        2.56205145e-02,  3.25759202e-02, -2.63211224e-02,  1.87506862e-02,\n",
       "        8.26718844e-03, -6.18709018e-04,  1.37312217e-02, -3.95426080e-02,\n",
       "        3.86715196e-02, -2.06241701e-02, -6.41651358e-03,  6.05651252e-02,\n",
       "       -8.48296657e-03, -2.28687897e-02, -6.61629215e-02, -2.82032602e-02,\n",
       "       -1.19455475e-02, -3.37483846e-02,  1.44918663e-02,  1.66505743e-02,\n",
       "       -9.34521388e-03, -7.56690139e-03, -2.95184627e-02, -2.26230416e-02,\n",
       "        3.16770934e-02, -1.70084424e-02,  5.32539412e-02,  1.85111519e-02,\n",
       "        1.20742870e-02, -3.60699184e-02,  2.79121753e-02, -4.26363992e-03,\n",
       "       -5.41361906e-02,  1.74821895e-02,  3.31616141e-02,  4.56387782e-03,\n",
       "       -2.89188456e-02, -4.58143130e-02, -3.14129740e-02, -6.87997639e-02,\n",
       "        1.41872531e-02, -7.24190939e-03,  2.67453808e-02,  6.91260863e-03,\n",
       "        3.79200988e-02,  1.09914996e-04, -5.94650768e-02,  3.18424329e-02,\n",
       "       -4.85460870e-02,  3.07026319e-02,  4.27798145e-02, -3.51515375e-02,\n",
       "       -1.01463003e-02,  1.50024407e-02,  9.55467205e-03,  8.73482227e-03,\n",
       "        4.78193909e-03, -1.30079966e-02, -1.06611839e-02, -3.24528739e-02,\n",
       "        3.96058671e-02,  2.24800203e-02, -3.36838365e-02,  3.24686617e-03,\n",
       "        1.66964880e-03, -1.01022027e-03,  8.44763406e-03, -5.93100628e-03,\n",
       "       -1.71306375e-02, -3.31878127e-03,  5.12435427e-03, -5.64735057e-03,\n",
       "        2.19352543e-02,  3.48924957e-02,  1.02015608e-03, -1.35178789e-02],\n",
       "      dtype=float32)"
      ]
     },
     "execution_count": 105,
     "metadata": {},
     "output_type": "execute_result"
    }
   ],
   "source": [
    "word_vectors[0]"
   ]
  },
  {
   "cell_type": "code",
   "execution_count": 87,
   "metadata": {},
   "outputs": [
    {
     "data": {
      "text/plain": [
       "array([ 8.05435702e-03,  1.25978107e-03,  6.24319427e-02, -6.32884214e-03,\n",
       "       -1.75899826e-02, -1.61474068e-02,  1.37744313e-02,  2.59112101e-03,\n",
       "        4.28639427e-02, -5.48514761e-02, -6.74741669e-03, -1.90544650e-02,\n",
       "       -7.62015767e-03,  7.28561543e-03,  1.17235482e-02, -7.64971366e-03,\n",
       "       -1.28452610e-02, -2.40213387e-02, -4.48411740e-02,  7.75327086e-02,\n",
       "       -6.59939134e-03,  6.61059096e-03, -8.07981007e-03, -2.12747920e-02,\n",
       "       -2.87901256e-02, -1.99163873e-02, -8.12114496e-03, -3.90298129e-03,\n",
       "       -1.33987078e-02,  2.15778742e-02,  1.40949497e-02, -1.54654132e-02,\n",
       "       -1.26898615e-03, -2.53953096e-02, -5.32016903e-03, -2.97065899e-02,\n",
       "       -1.23505481e-02,  4.55770828e-02, -1.02987392e-02, -1.09058665e-02,\n",
       "        7.20649585e-03, -6.25286922e-02, -2.74458807e-02,  2.73177773e-03,\n",
       "       -2.60079838e-02,  3.28307822e-02,  8.99735652e-03,  3.96593176e-02,\n",
       "       -1.50958318e-02, -2.20900811e-02,  4.02106345e-02,  4.12732223e-03,\n",
       "       -2.23959293e-02,  4.70192451e-03, -8.20686109e-03,  7.55074527e-03,\n",
       "        1.83792692e-02,  1.90902781e-02, -1.50701404e-02,  2.96079274e-02,\n",
       "        4.69304100e-02,  6.56475648e-02, -2.25088373e-02,  1.60196389e-03,\n",
       "       -2.01241057e-02,  5.77222090e-03, -3.55107337e-02,  1.00511257e-02,\n",
       "        2.94109769e-02,  3.38384621e-02,  2.78240273e-04, -9.26066074e-04,\n",
       "       -2.46157721e-02, -5.68395108e-02, -7.01197330e-03,  2.78968690e-03,\n",
       "       -1.97904762e-02,  7.27652991e-03, -3.03190760e-02, -7.16280099e-03,\n",
       "       -1.00055216e-02,  1.06963664e-02,  5.86146489e-04,  1.97004825e-02,\n",
       "        1.14279268e-02, -1.72816459e-02,  4.19538021e-02, -4.53638099e-02,\n",
       "       -2.81429794e-02, -1.29545666e-03,  3.32220807e-03,  1.07237250e-02,\n",
       "        3.54488529e-02,  1.79889705e-02,  2.92614494e-02, -7.16761628e-04,\n",
       "        2.70911828e-02,  3.36463116e-02, -4.54074750e-03,  4.26884973e-03,\n",
       "       -1.69733725e-02,  3.65445070e-04,  2.59582996e-02,  1.27971712e-02,\n",
       "        3.27196554e-03, -1.76669713e-02,  3.59946652e-03,  3.34292687e-02,\n",
       "       -4.52047139e-02, -2.59696841e-02,  9.68412962e-03,  4.86671878e-03,\n",
       "        3.36331576e-02,  2.20435318e-02, -3.24057378e-02, -4.09614667e-02,\n",
       "        7.04372721e-03, -2.69005611e-03,  6.38440400e-02,  8.83724261e-03,\n",
       "        2.85068564e-02,  4.68586246e-03,  3.78296971e-02, -5.36112376e-02,\n",
       "       -3.82401869e-02,  2.94667296e-02, -4.37645130e-02,  1.20707126e-02,\n",
       "        2.25119125e-02, -6.24063378e-03, -3.01304013e-02, -1.96850812e-03,\n",
       "        9.08035610e-04,  9.95750190e-04,  9.20835044e-03,  2.90189087e-02,\n",
       "        3.65191475e-02,  3.08441278e-02,  1.69826373e-02,  3.47406231e-02,\n",
       "        2.39726789e-02, -7.47937593e-04, -8.12554453e-03, -1.12204468e-02,\n",
       "        2.97713894e-02,  4.34083343e-02, -5.09865731e-02,  2.56857201e-02,\n",
       "       -1.57002956e-02,  1.45922760e-02,  3.31797078e-02,  3.65767889e-02,\n",
       "        3.80941443e-02, -6.05898211e-04, -4.22979705e-03, -7.79005140e-02,\n",
       "       -1.56122521e-02,  8.31897277e-03, -8.93021468e-03, -5.47484960e-03,\n",
       "        1.72885321e-02, -1.79712325e-02, -1.89144257e-02, -8.68066773e-02,\n",
       "       -4.02273722e-02, -2.59468388e-02,  5.44365845e-04,  1.95948351e-02,\n",
       "       -2.38659512e-02,  1.57147944e-02,  1.72946882e-02, -3.00283842e-02,\n",
       "       -4.11339216e-02,  3.95569503e-02, -1.97863691e-02,  4.49701734e-02,\n",
       "        3.24685089e-02,  2.45254561e-02,  1.57194175e-02, -8.47099535e-03,\n",
       "        4.30470146e-02, -2.62939595e-02, -5.30019701e-02,  2.08469182e-02,\n",
       "        1.11668697e-02,  1.11569343e-02,  8.28031171e-03,  1.12730628e-02,\n",
       "       -1.28044607e-02,  4.02624644e-02, -3.13924551e-02,  1.79536815e-04,\n",
       "       -7.81382143e-04,  6.62530260e-03,  1.06331538e-02,  6.41758591e-02,\n",
       "        1.52106425e-02, -1.78797379e-01,  1.03781475e-02,  1.30166626e-02,\n",
       "        3.21917585e-04,  7.77172041e-04, -1.72150191e-02, -5.71103767e-03,\n",
       "        7.97415792e-04, -8.12794641e-03, -3.70722562e-02,  5.17244451e-02,\n",
       "       -8.61580856e-03, -5.01673901e-03,  6.43053500e-04, -3.22325155e-02,\n",
       "       -1.30613968e-02,  2.09605582e-02,  4.05909345e-02, -7.59663293e-03,\n",
       "        5.18801026e-02,  3.58496346e-02, -6.91298395e-02, -2.28842674e-03,\n",
       "       -2.17380337e-02, -1.15886647e-02,  1.06624486e-02, -3.76579282e-03,\n",
       "        2.56205145e-02,  3.25759202e-02, -2.63211224e-02,  1.87506862e-02,\n",
       "        8.26718844e-03, -6.18709018e-04,  1.37312217e-02, -3.95426080e-02,\n",
       "        3.86715196e-02, -2.06241701e-02, -6.41651358e-03,  6.05651252e-02,\n",
       "       -8.48296657e-03, -2.28687897e-02, -6.61629215e-02, -2.82032602e-02,\n",
       "       -1.19455475e-02, -3.37483846e-02,  1.44918663e-02,  1.66505743e-02,\n",
       "       -9.34521388e-03, -7.56690139e-03, -2.95184627e-02, -2.26230416e-02,\n",
       "        3.16770934e-02, -1.70084424e-02,  5.32539412e-02,  1.85111519e-02,\n",
       "        1.20742870e-02, -3.60699184e-02,  2.79121753e-02, -4.26363992e-03,\n",
       "       -5.41361906e-02,  1.74821895e-02,  3.31616141e-02,  4.56387782e-03,\n",
       "       -2.89188456e-02, -4.58143130e-02, -3.14129740e-02, -6.87997639e-02,\n",
       "        1.41872531e-02, -7.24190939e-03,  2.67453808e-02,  6.91260863e-03,\n",
       "        3.79200988e-02,  1.09914996e-04, -5.94650768e-02,  3.18424329e-02,\n",
       "       -4.85460870e-02,  3.07026319e-02,  4.27798145e-02, -3.51515375e-02,\n",
       "       -1.01463003e-02,  1.50024407e-02,  9.55467205e-03,  8.73482227e-03,\n",
       "        4.78193909e-03, -1.30079966e-02, -1.06611839e-02, -3.24528739e-02,\n",
       "        3.96058671e-02,  2.24800203e-02, -3.36838365e-02,  3.24686617e-03,\n",
       "        1.66964880e-03, -1.01022027e-03,  8.44763406e-03, -5.93100628e-03,\n",
       "       -1.71306375e-02, -3.31878127e-03,  5.12435427e-03, -5.64735057e-03,\n",
       "        2.19352543e-02,  3.48924957e-02,  1.02015608e-03, -1.35178789e-02],\n",
       "      dtype=float32)"
      ]
     },
     "execution_count": 87,
     "metadata": {},
     "output_type": "execute_result"
    }
   ],
   "source": [
    "sentence_vector(clean_w[0])"
   ]
  },
  {
   "cell_type": "code",
   "execution_count": 91,
   "metadata": {},
   "outputs": [
    {
     "data": {
      "text/plain": [
       "array([ 8.05438962e-03,  1.25978608e-03,  6.24321885e-02, -6.32886728e-03,\n",
       "       -1.75900515e-02, -1.61474701e-02,  1.37744853e-02,  2.59113126e-03,\n",
       "        4.28641140e-02, -5.48516959e-02, -6.74744369e-03, -1.90545395e-02,\n",
       "       -7.62018794e-03,  7.28564430e-03,  1.17235947e-02, -7.64974393e-03,\n",
       "       -1.28453122e-02, -2.40214355e-02, -4.48413529e-02,  7.75330141e-02,\n",
       "       -6.59941742e-03,  6.61061704e-03, -8.07984266e-03, -2.12748758e-02,\n",
       "       -2.87902411e-02, -1.99164674e-02, -8.12117755e-03, -3.90299689e-03,\n",
       "       -1.33987609e-02,  2.15779599e-02,  1.40950056e-02, -1.54654738e-02,\n",
       "       -1.26899127e-03, -2.53954101e-02, -5.32018999e-03, -2.97067072e-02,\n",
       "       -1.23505974e-02,  4.55772653e-02, -1.02987802e-02, -1.09059094e-02,\n",
       "        7.20652472e-03, -6.25289381e-02, -2.74459887e-02,  2.73178844e-03,\n",
       "       -2.60080863e-02,  3.28309089e-02,  8.99739284e-03,  3.96594740e-02,\n",
       "       -1.50958924e-02, -2.20901687e-02,  4.02107947e-02,  4.12733853e-03,\n",
       "       -2.23960187e-02,  4.70194314e-03, -8.20689276e-03,  7.55077554e-03,\n",
       "        1.83793418e-02,  1.90903526e-02, -1.50702000e-02,  2.96080448e-02,\n",
       "        4.69305962e-02,  6.56478256e-02, -2.25089267e-02,  1.60197017e-03,\n",
       "       -2.01241858e-02,  5.77224372e-03, -3.55108753e-02,  1.00511657e-02,\n",
       "        2.94110943e-02,  3.38385962e-02,  2.78241379e-04, -9.26069741e-04,\n",
       "       -2.46158689e-02, -5.68397380e-02, -7.01200124e-03,  2.78969784e-03,\n",
       "       -1.97905544e-02,  7.27655878e-03, -3.03191971e-02, -7.16282986e-03,\n",
       "       -1.00055607e-02,  1.06964083e-02,  5.86148817e-04,  1.97005607e-02,\n",
       "        1.14279725e-02, -1.72817148e-02,  4.19539697e-02, -4.53639887e-02,\n",
       "       -2.81430911e-02, -1.29546179e-03,  3.32222134e-03,  1.07237669e-02,\n",
       "        3.54489945e-02,  1.79890413e-02,  2.92615648e-02, -7.16764480e-04,\n",
       "        2.70912908e-02,  3.36464457e-02, -4.54076519e-03,  4.26886696e-03,\n",
       "       -1.69734415e-02,  3.65446496e-04,  2.59584021e-02,  1.27972225e-02,\n",
       "        3.27197858e-03, -1.76670421e-02,  3.59948073e-03,  3.34293991e-02,\n",
       "       -4.52048928e-02, -2.59697866e-02,  9.68416780e-03,  4.86673787e-03,\n",
       "        3.36332917e-02,  2.20436193e-02, -3.24058682e-02, -4.09616269e-02,\n",
       "        7.04375515e-03, -2.69006658e-03,  6.38442934e-02,  8.83727707e-03,\n",
       "        2.85069700e-02,  4.68588062e-03,  3.78298461e-02, -5.36114499e-02,\n",
       "       -3.82403359e-02,  2.94668451e-02, -4.37646881e-02,  1.20707611e-02,\n",
       "        2.25120019e-02, -6.24065893e-03, -3.01305205e-02, -1.96851604e-03,\n",
       "        9.08039219e-04,  9.95754148e-04,  9.20838676e-03,  2.90190242e-02,\n",
       "        3.65192927e-02,  3.08442488e-02,  1.69827044e-02,  3.47407609e-02,\n",
       "        2.39727739e-02, -7.47940561e-04, -8.12557619e-03, -1.12204906e-02,\n",
       "        2.97715068e-02,  4.34085093e-02, -5.09867780e-02,  2.56858226e-02,\n",
       "       -1.57003589e-02,  1.45923337e-02,  3.31798419e-02,  3.65769342e-02,\n",
       "        3.80942933e-02, -6.05900597e-04, -4.22981381e-03, -7.79008195e-02,\n",
       "       -1.56123135e-02,  8.31900537e-03, -8.93025007e-03, -5.47487149e-03,\n",
       "        1.72886010e-02, -1.79713052e-02, -1.89145003e-02, -8.68070200e-02,\n",
       "       -4.02275324e-02, -2.59469412e-02,  5.44368057e-04,  1.95949133e-02,\n",
       "       -2.38660462e-02,  1.57148577e-02,  1.72947571e-02, -3.00285034e-02,\n",
       "       -4.11340855e-02,  3.95571105e-02, -1.97864491e-02,  4.49703485e-02,\n",
       "        3.24686356e-02,  2.45255549e-02,  1.57194808e-02, -8.47102981e-03,\n",
       "        4.30471860e-02, -2.62940638e-02, -5.30021824e-02,  2.08470002e-02,\n",
       "        1.11669134e-02,  1.11569790e-02,  8.28034431e-03,  1.12731075e-02,\n",
       "       -1.28045119e-02,  4.02626246e-02, -3.13925780e-02,  1.79537528e-04,\n",
       "       -7.81385228e-04,  6.62532868e-03,  1.06331958e-02,  6.41761124e-02,\n",
       "        1.52107021e-02, -1.78798079e-01,  1.03781894e-02,  1.30167138e-02,\n",
       "        3.21918866e-04,  7.77175126e-04, -1.72150880e-02, -5.71106002e-03,\n",
       "        7.97418936e-04, -8.12797900e-03, -3.70724052e-02,  5.17246500e-02,\n",
       "       -8.61584302e-03, -5.01675904e-03,  6.43056061e-04, -3.22326422e-02,\n",
       "       -1.30614480e-02,  2.09606402e-02,  4.05910984e-02, -7.59666320e-03,\n",
       "        5.18803075e-02,  3.58497761e-02, -6.91301152e-02, -2.28843582e-03,\n",
       "       -2.17381194e-02, -1.15887104e-02,  1.06624914e-02, -3.76580772e-03,\n",
       "        2.56206151e-02,  3.25760506e-02, -2.63212267e-02,  1.87507607e-02,\n",
       "        8.26722104e-03, -6.18711463e-04,  1.37312757e-02, -3.95427644e-02,\n",
       "        3.86716761e-02, -2.06242520e-02, -6.41653873e-03,  6.05653673e-02,\n",
       "       -8.48300010e-03, -2.28688810e-02, -6.61631823e-02, -2.82033738e-02,\n",
       "       -1.19455941e-02, -3.37485187e-02,  1.44919241e-02,  1.66506413e-02,\n",
       "       -9.34525114e-03, -7.56693119e-03, -2.95185801e-02, -2.26231311e-02,\n",
       "        3.16772163e-02, -1.70085095e-02,  5.32541499e-02,  1.85112264e-02,\n",
       "        1.20743345e-02, -3.60700637e-02,  2.79122852e-02, -4.26365668e-03,\n",
       "       -5.41364066e-02,  1.74822584e-02,  3.31617482e-02,  4.56389599e-03,\n",
       "       -2.89189592e-02, -4.58144955e-02, -3.14130969e-02, -6.88000321e-02,\n",
       "        1.41873099e-02, -7.24193826e-03,  2.67454870e-02,  6.91263610e-03,\n",
       "        3.79202478e-02,  1.09915432e-04, -5.94653115e-02,  3.18425596e-02,\n",
       "       -4.85462807e-02,  3.07027530e-02,  4.27799858e-02, -3.51516753e-02,\n",
       "       -1.01463404e-02,  1.50025003e-02,  9.55471024e-03,  8.73485673e-03,\n",
       "        4.78195818e-03, -1.30080488e-02, -1.06612267e-02, -3.24530043e-02,\n",
       "        3.96060236e-02,  2.24801078e-02, -3.36839706e-02,  3.24687897e-03,\n",
       "        1.66965544e-03, -1.01022422e-03,  8.44766758e-03, -5.93103003e-03,\n",
       "       -1.71307046e-02, -3.31879430e-03,  5.12437476e-03, -5.64737339e-03,\n",
       "        2.19353419e-02,  3.48926336e-02,  1.02016015e-03, -1.35179330e-02],\n",
       "      dtype=float32)"
      ]
     },
     "execution_count": 91,
     "metadata": {},
     "output_type": "execute_result"
    }
   ],
   "source": [
    "v = sum([ft.get_word_vector(w) for w in clean_w[0]])/ len(clean_w[0])\n",
    "v"
   ]
  },
  {
   "cell_type": "code",
   "execution_count": 107,
   "metadata": {},
   "outputs": [],
   "source": [
    "from sklearn.metrics.pairwise import cosine_similarity\n",
    "import networkx as nx\n"
   ]
  },
  {
   "cell_type": "code",
   "execution_count": 108,
   "metadata": {},
   "outputs": [
    {
     "data": {
      "text/plain": [
       "9"
      ]
     },
     "execution_count": 108,
     "metadata": {},
     "output_type": "execute_result"
    }
   ],
   "source": [
    "len(sentences)"
   ]
  },
  {
   "cell_type": "code",
   "execution_count": 115,
   "metadata": {},
   "outputs": [
    {
     "data": {
      "text/plain": [
       "(300,)"
      ]
     },
     "execution_count": 115,
     "metadata": {},
     "output_type": "execute_result"
    }
   ],
   "source": [
    "T = word_vectors[0]\n",
    "T.shape"
   ]
  },
  {
   "cell_type": "code",
   "execution_count": 117,
   "metadata": {},
   "outputs": [
    {
     "data": {
      "text/plain": [
       "(1, 300)"
      ]
     },
     "execution_count": 117,
     "metadata": {},
     "output_type": "execute_result"
    }
   ],
   "source": [
    "TT = T.reshape(1,-1)\n",
    "TT.shape"
   ]
  },
  {
   "cell_type": "code",
   "execution_count": 110,
   "metadata": {},
   "outputs": [],
   "source": [
    "sim_mat = np.zeros([len(sentences), len(sentences)])"
   ]
  },
  {
   "cell_type": "code",
   "execution_count": 118,
   "metadata": {},
   "outputs": [],
   "source": [
    "for i in range(len(sentences)):\n",
    "    for j in range(len(sentences)):\n",
    "        if i != j:\n",
    "            sim_mat[i][j] = cosine_similarity(word_vectors[i].reshape(1, -1), word_vectors[j].reshape(1, -1))[0, 0]"
   ]
  },
  {
   "cell_type": "code",
   "execution_count": 119,
   "metadata": {},
   "outputs": [
    {
     "data": {
      "text/plain": [
       "array([[0.        , 0.71578741, 0.7979902 , 0.67301619, 0.66837144,\n",
       "        0.78021789, 0.78147876, 0.60763717, 0.58878338],\n",
       "       [0.71578741, 0.        , 0.82462239, 0.79144514, 0.76006293,\n",
       "        0.82437289, 0.79702091, 0.72729039, 0.74096149],\n",
       "       [0.7979902 , 0.82462239, 0.        , 0.77015072, 0.71827871,\n",
       "        0.83814907, 0.78154302, 0.68048769, 0.71385658],\n",
       "       [0.67301619, 0.79144514, 0.77015072, 0.        , 0.80921972,\n",
       "        0.67037445, 0.74713743, 0.64454007, 0.84390396],\n",
       "       [0.66837144, 0.76006293, 0.71827871, 0.80921972, 0.        ,\n",
       "        0.65578091, 0.79467088, 0.65316594, 0.78886127],\n",
       "       [0.78021789, 0.82437289, 0.83814907, 0.67037445, 0.65578091,\n",
       "        0.        , 0.7321713 , 0.80017275, 0.63100344],\n",
       "       [0.78147876, 0.79702091, 0.78154302, 0.74713743, 0.79467088,\n",
       "        0.7321713 , 0.        , 0.67327332, 0.72087026],\n",
       "       [0.60763717, 0.72729039, 0.68048769, 0.64454007, 0.65316594,\n",
       "        0.80017275, 0.67327332, 0.        , 0.61343557],\n",
       "       [0.58878338, 0.74096149, 0.71385658, 0.84390396, 0.78886127,\n",
       "        0.63100344, 0.72087026, 0.61343557, 0.        ]])"
      ]
     },
     "execution_count": 119,
     "metadata": {},
     "output_type": "execute_result"
    }
   ],
   "source": [
    "sim_mat"
   ]
  },
  {
   "cell_type": "code",
   "execution_count": 121,
   "metadata": {},
   "outputs": [],
   "source": [
    "nx_graph = nx.from_numpy_array(sim_mat)\n",
    "scores = nx.pagerank(nx_graph)"
   ]
  },
  {
   "cell_type": "code",
   "execution_count": 122,
   "metadata": {},
   "outputs": [],
   "source": [
    "ranked_sentences = sorted([(scores[i], s[:15]) for i, s in enumerate(sentences)], reverse=True)\n"
   ]
  },
  {
   "cell_type": "code",
   "execution_count": 124,
   "metadata": {},
   "outputs": [],
   "source": [
    "top_ranked_sentences = ranked_sentences[:int(len(sentences)/ 3)]\n",
    "\n",
    "sentence_count = 0\n",
    "summary = ''\n",
    "\n",
    "for i in sentences:\n",
    "    for j in top_ranked_sentences:\n",
    "        if i[:15] == j[1]:\n",
    "            summary += i + ' '\n",
    "            sentence_count += 1\n",
    "            break"
   ]
  },
  {
   "cell_type": "code",
   "execution_count": 127,
   "metadata": {},
   "outputs": [
    {
     "name": "stdout",
     "output_type": "stream",
     "text": [
      "CHP Saray İlçe Başkan Vekili Yasin Arslan, Saray İlçe Seçim Kurulu Başkanlığına 31 Mart'ta yüzde 51,16 oy alan DEM Parti adayı Davut Acar ile ilgili itiraz dilekçesi verdi. İlçe Seçim Kurulu talebi reddederken gelişme üzerine CHP Van İl Başkanlığı açıklamada bulunarak Arslan'ın istifa ettiğini ancak yine de kesin ihraç talebiyle disipline sevk edildiğini bildirdi.\n",
      "\n",
      "\"TERÖR ARAŞTIRMASI YAPILSIN\"\n",
      "\n",
      "Arslan, DEM Partili adayın başkan seçilmesine itiraz ettiği dilekçesinde şu ifadeleri kullandı: \"31 Mart tarihinde yapılan yerel seçimlerde Van ili Saray ilçesinde Cumhuriyet Halk Partisi olarak belediye başkanlık seçimlerine katılmış bulunmaktayız. Söz konusu seçim sonuçlarında rakip parti (DEM Parti) adayı Davut Acar'ın seçilmesi önünde engel teşkil edebilecek terörle ilişkili davalarda yargılanıp yargılanmadığı, yargılanmış ise memnu haklarından mahrum bırakılıp bırakılmadığı, devlet memuru vasıflarının taşıyıp taşımadığı hususlarında araştırmaların yapılarak, bu durum söz konusu ise mazbatasının iptalini bilgilerinize arz ederim.\"\n",
      "\n",
      "İlçe Seçim Kurulu Başkanlığı Acar hakkında \"kesinleşmiş bir mahkumiyet hükmü bulunmadığından\" itiraz yolu açık olmak üzere talebin reddine karar verdi.\n",
      "CHP İL BAŞKANLIĞI: KESİN İHRAÇ TALEBİYLE DİSİPLİNE SEVK EDİLDİ\n",
      "\n",
      "CHP Van İl Başkanlığından bugün yapılan açıklamada, \"Saray ilçemizde il başkanlığımız bilgisi dışında İlçe Seçim Kuruluna bir müracaat gerçekleştiğini üzüntü ile öğrendik. İlçe Başkan Vekili Yasin Arslan İlçe Seçim Kuruluna verdiği dilekçenin ardından bir de istifa dilekçesi vermiştir. Bunun üzerine harekete geçen il başkanlığımız ilgili müracaatı yapan İlçe Başkan Vekilinin sadece istifasını yeterli bulmamış kendisini kesin ihraç talebiyle il disiplin kuruluna sevk etmiştir. Halkın iradesinin dışında bir irade olamayacağını, bu vesileyle tekrar tüm siyasi partileri halkın iradesine saygılı olmaya davet ettiğimizi tüm kamuoyuna saygılarımızla arz ve beyan ederiz\" ifadelerine yer verildi. \n"
     ]
    }
   ],
   "source": [
    "print(test_text)"
   ]
  },
  {
   "cell_type": "code",
   "execution_count": 126,
   "metadata": {},
   "outputs": [
    {
     "name": "stdout",
     "output_type": "stream",
     "text": [
      "İlçe Seçim Kurulu talebi reddederken gelişme üzerine CHP Van İl Başkanlığı açıklamada bulunarak Arslan'ın istifa ettiğini ancak yine de kesin ihraç talebiyle disipline sevk edildiğini bildirdi. \"TERÖR ARAŞTIRMASI YAPILSIN\"\n",
      "\n",
      "Arslan, DEM Partili adayın başkan seçilmesine itiraz ettiği dilekçesinde şu ifadeleri kullandı: \"31 Mart tarihinde yapılan yerel seçimlerde Van ili Saray ilçesinde Cumhuriyet Halk Partisi olarak belediye başkanlık seçimlerine katılmış bulunmaktayız. İlçe Seçim Kurulu Başkanlığı Acar hakkında \"kesinleşmiş bir mahkumiyet hükmü bulunmadığından\" itiraz yolu açık olmak üzere talebin reddine karar verdi. İlçe Başkan Vekili Yasin Arslan İlçe Seçim Kuruluna verdiği dilekçenin ardından bir de istifa dilekçesi vermiştir. \n"
     ]
    }
   ],
   "source": [
    "print(summary)"
   ]
  },
  {
   "cell_type": "code",
   "execution_count": null,
   "metadata": {},
   "outputs": [],
   "source": []
  }
 ],
 "metadata": {
  "kernelspec": {
   "display_name": "Python 3",
   "language": "python",
   "name": "python3"
  },
  "language_info": {
   "codemirror_mode": {
    "name": "ipython",
    "version": 3
   },
   "file_extension": ".py",
   "mimetype": "text/x-python",
   "name": "python",
   "nbconvert_exporter": "python",
   "pygments_lexer": "ipython3",
   "version": "3.11.4"
  }
 },
 "nbformat": 4,
 "nbformat_minor": 2
}
